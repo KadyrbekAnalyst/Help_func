{
 "cells": [
  {
   "cell_type": "code",
   "execution_count": 2,
   "metadata": {},
   "outputs": [
    {
     "name": "stdout",
     "output_type": "stream",
     "text": [
      "[2, 3, 4, 5, 7, 8]\n"
     ]
    }
   ],
   "source": [
    "# buble sort\n",
    "a = [5,4,7,2,8,3]\n",
    "b = len(a)\n",
    "count = 0\n",
    "for i in range(len(a)-1):\n",
    "    for j in range(b-1-i):\n",
    "        if a[j] > a[j+1]:\n",
    "            a[j] , a[j+1] = a[j+1] , a[j]\n",
    "            count =+ 1\n",
    "print(a)\n",
    "# the O(n) = n^2... non effective way to sort////"
   ]
  },
  {
   "cell_type": "code",
   "execution_count": 9,
   "metadata": {},
   "outputs": [
    {
     "name": "stdout",
     "output_type": "stream",
     "text": [
      "2 3 4 5 5 8 8 10\n"
     ]
    }
   ],
   "source": [
    "# merge two sorted list\n",
    "# solution with the 2 pointer\n",
    "a = [2,8,8]\n",
    "b = [3,4,5,5,10]\n",
    "i = j = 0\n",
    "c = []\n",
    "while i<len(a) and j<len(b):\n",
    "    if a[i] < b[j]:\n",
    "        c.append(a[i])\n",
    "        i += 1\n",
    "    else:\n",
    "        c.append(b[j])\n",
    "        j += 1\n",
    "if j<len(b):\n",
    "    c += (b[j:])\n",
    "if i<len(a):\n",
    "    c += (b[i:])\n",
    "    \n",
    "print(*c) # sign \"*\" -> (open operator)////\n",
    "        "
   ]
  }
 ],
 "metadata": {
  "kernelspec": {
   "display_name": "venv",
   "language": "python",
   "name": "python3"
  },
  "language_info": {
   "codemirror_mode": {
    "name": "ipython",
    "version": 3
   },
   "file_extension": ".py",
   "mimetype": "text/x-python",
   "name": "python",
   "nbconvert_exporter": "python",
   "pygments_lexer": "ipython3",
   "version": "3.9.0"
  },
  "orig_nbformat": 4
 },
 "nbformat": 4,
 "nbformat_minor": 2
}
