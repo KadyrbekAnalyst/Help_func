{
 "cells": [
  {
   "cell_type": "code",
   "execution_count": 1,
   "metadata": {},
   "outputs": [],
   "source": [
    "# find a prefix from list a words.\n",
    "def longestCommonPrefix(strs: list[str]) -> str:\n",
    "    if len(strs)>0 and len(strs[0])>0:\n",
    "        if len(strs) == 1:\n",
    "            return strs[0]\n",
    "        min_len_word = min(strs, key=len)\n",
    "        strs.remove(min_len_word)\n",
    "        indexces = []\n",
    "        a = []\n",
    "        if len(min_len_word)>0:\n",
    "            for i in range(len(strs)):\n",
    "                if min_len_word[0] != strs[i][0]:\n",
    "                    return ''\n",
    "                else:\n",
    "                    b = [] \n",
    "                    for letters in range(len(min_len_word)):\n",
    "                        if min_len_word[letters] != strs[i][letters]:\n",
    "                            b.append(letters)\n",
    "                a.append(b)\n",
    "            for i in a:\n",
    "                if len(i) > 0:\n",
    "                    indexces.append(min(i))\n",
    "            if len(indexces) > 0:\n",
    "                return min_len_word[0:min(indexces)] \n",
    "            else:\n",
    "                return min_len_word  \n",
    "        else:\n",
    "            return ''     \n",
    "    else:\n",
    "        return ''"
   ]
  },
  {
   "cell_type": "code",
   "execution_count": 5,
   "metadata": {},
   "outputs": [
    {
     "data": {
      "text/plain": [
       "'a'"
      ]
     },
     "execution_count": 5,
     "metadata": {},
     "output_type": "execute_result"
    }
   ],
   "source": [
    "longestCommonPrefix([\"abab\",\"aba\",\"a\"])"
   ]
  },
  {
   "cell_type": "code",
   "execution_count": 2,
   "metadata": {},
   "outputs": [],
   "source": [
    "def solve(text, k):\n",
    "    b = {}\n",
    "    a = []\n",
    "    for i in text.split():\n",
    "        if i in b.keys():\n",
    "            b[i] += 1\n",
    "        else:\n",
    "            b[i] = 1\n",
    "    for i in text.split():\n",
    "        if b[i] < k:\n",
    "            a.append(i)\n",
    "    return ' '.join(a)"
   ]
  },
  {
   "cell_type": "code",
   "execution_count": 3,
   "metadata": {},
   "outputs": [
    {
     "data": {
      "text/plain": [
       "'ai ai let it go'"
      ]
     },
     "execution_count": 3,
     "metadata": {},
     "output_type": "execute_result"
    }
   ],
   "source": [
    "solve('hi ai hi hi hi ai salam salam salam let it go',3)"
   ]
  },
  {
   "cell_type": "code",
   "execution_count": 6,
   "metadata": {},
   "outputs": [],
   "source": [
    "def solve_2(list_of_str:list):\n",
    "    b = []\n",
    "    for i in range(len(list_of_str)):\n",
    "        # if type(list_of_str[i]) == str:\n",
    "            for j in range(i+1,len(list_of_str)):\n",
    "                if (sorted(str(list_of_str[i]))) == (sorted(str(list_of_str[j]))):\n",
    "                    b.append(j) # Можно не все индексы добавлять, а делать проверку здесь но решил ниже сделать использовать функцию set()\n",
    "        # else:\n",
    "        #     b.append(i)\n",
    "    return [value for i,value in enumerate(list_of_str) if i not in set(b)]\n",
    "# Работает...\n",
    "# Problem 1"
   ]
  },
  {
   "cell_type": "code",
   "execution_count": 7,
   "metadata": {},
   "outputs": [
    {
     "data": {
      "text/plain": [
       "['vlad', 'almas', 'aya', 'ayan', '']"
      ]
     },
     "execution_count": 7,
     "metadata": {},
     "output_type": "execute_result"
    }
   ],
   "source": [
    "solve_2(['vlad','avld','almas','aslam','aya','ayan','lavd',''])"
   ]
  }
 ],
 "metadata": {
  "kernelspec": {
   "display_name": "venv",
   "language": "python",
   "name": "python3"
  },
  "language_info": {
   "codemirror_mode": {
    "name": "ipython",
    "version": 3
   },
   "file_extension": ".py",
   "mimetype": "text/x-python",
   "name": "python",
   "nbconvert_exporter": "python",
   "pygments_lexer": "ipython3",
   "version": "3.9.0"
  },
  "orig_nbformat": 4
 },
 "nbformat": 4,
 "nbformat_minor": 2
}
